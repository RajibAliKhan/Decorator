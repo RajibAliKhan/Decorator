{
 "cells": [
  {
   "cell_type": "code",
   "execution_count": 3,
   "id": "4eb87750-ffd9-4edf-9950-df8143eea503",
   "metadata": {},
   "outputs": [
    {
     "name": "stdout",
     "output_type": "stream",
     "text": [
      "This is the start of my function.\n",
      "This is my function.\n",
      "This is the end of my function.\n"
     ]
    }
   ],
   "source": [
    "def test() :\n",
    "    print('This is the start of my function.')\n",
    "    print('This is my function.')\n",
    "    print('This is the end of my function.')\n",
    "test()\n",
    "\n",
    "# every time I have to write the print code.\n",
    "# So, here I decorate the print code that's way I haven't write the code everytime."
   ]
  },
  {
   "cell_type": "code",
   "execution_count": 4,
   "id": "a849e789-85bb-4fb4-be4d-c3aa13f777cb",
   "metadata": {},
   "outputs": [],
   "source": [
    "def decorate(func) :\n",
    "    def inner_decorator() :\n",
    "        print('This is the start of my function.')\n",
    "        func()\n",
    "        print('This is the end of my function.')\n",
    "    return inner_decorator"
   ]
  },
  {
   "cell_type": "code",
   "execution_count": 7,
   "id": "214a1af7-6466-4edd-9280-781640e48198",
   "metadata": {},
   "outputs": [
    {
     "name": "stdout",
     "output_type": "stream",
     "text": [
      "This is the start of my function.\n",
      "13\n",
      "This is the end of my function.\n"
     ]
    }
   ],
   "source": [
    "@decorate\n",
    "def test1() :\n",
    "    print(6 + 7)\n",
    "test1()"
   ]
  },
  {
   "cell_type": "code",
   "execution_count": 1,
   "id": "db67d8d0-53f2-44a6-a54c-2a12f730bcb2",
   "metadata": {},
   "outputs": [],
   "source": [
    "def decor(f) :\n",
    "    def in_decor() :\n",
    "        print('My first name is Rajib')\n",
    "        f()\n",
    "        print('My last name is Khan')\n",
    "    return in_decor"
   ]
  },
  {
   "cell_type": "code",
   "execution_count": 3,
   "id": "17d6adac-6aa0-47de-8aa8-9169079a4a92",
   "metadata": {},
   "outputs": [
    {
     "name": "stdout",
     "output_type": "stream",
     "text": [
      "My first name is Rajib\n",
      "My middle name is Ali\n",
      "My last name is Khan\n"
     ]
    }
   ],
   "source": [
    "@decor\n",
    "\n",
    "def test1() :\n",
    "    print('My middle name is Ali')\n",
    "test1()"
   ]
  },
  {
   "cell_type": "code",
   "execution_count": 4,
   "id": "bbc4b94a-827e-46fb-8a92-26e09a3426f1",
   "metadata": {},
   "outputs": [],
   "source": [
    "def decorator(r) :\n",
    "    def in_dec() :\n",
    "        print('The name of my country is India.')\n",
    "        r()\n",
    "        print('The name of my district is Purba Medinipur.')\n",
    "    return in_dec"
   ]
  },
  {
   "cell_type": "code",
   "execution_count": 5,
   "id": "d7013e26-f7bf-46f5-908d-6dffbbc2046a",
   "metadata": {},
   "outputs": [
    {
     "name": "stdout",
     "output_type": "stream",
     "text": [
      "The name of my country is India.\n",
      "The name of my state is West bengal.\n",
      "The name of my district is Purba Medinipur.\n"
     ]
    }
   ],
   "source": [
    "@decorator\n",
    "\n",
    "def test2() :\n",
    "    print('The name of my state is West bengal.')\n",
    "test2()"
   ]
  },
  {
   "cell_type": "code",
   "execution_count": 6,
   "id": "d0e7ded5-5dd7-4e0a-b529-9aab2cb9b2bf",
   "metadata": {},
   "outputs": [
    {
     "name": "stdout",
     "output_type": "stream",
     "text": [
      "The name of my country is India.\n",
      "I love my country.\n",
      "The name of my district is Purba Medinipur.\n"
     ]
    }
   ],
   "source": [
    "@decorator\n",
    "\n",
    "def test3() :\n",
    "    print('I love my country.')\n",
    "test3()"
   ]
  },
  {
   "cell_type": "code",
   "execution_count": 7,
   "id": "e76b22f1-03e9-412a-b420-a3135aed602c",
   "metadata": {},
   "outputs": [
    {
     "name": "stdout",
     "output_type": "stream",
     "text": [
      "The name of my country is India.\n",
      "My first name is Rajib\n",
      "I love my country.\n",
      "My last name is Khan\n",
      "The name of my district is Purba Medinipur.\n"
     ]
    }
   ],
   "source": [
    "@decorator\n",
    "@decor\n",
    "\n",
    "def test3() :\n",
    "    print('I love my country.')\n",
    "test3()"
   ]
  },
  {
   "cell_type": "code",
   "execution_count": 8,
   "id": "f4f66792-0d34-4c7b-b60e-1722c7cae757",
   "metadata": {},
   "outputs": [],
   "source": [
    "# How much time is required to execute a function :\n",
    "\n",
    "import time\n",
    "\n",
    "def timer_test(func) :\n",
    "    def timer_test_inner() :\n",
    "        start = time.time()\n",
    "        func()\n",
    "        end = time.time()\n",
    "        print(end - start)\n",
    "    return timer_test_inner"
   ]
  },
  {
   "cell_type": "code",
   "execution_count": 9,
   "id": "7f3f8314-92e2-43b4-8aa7-5df293f45fe2",
   "metadata": {},
   "outputs": [
    {
     "name": "stdout",
     "output_type": "stream",
     "text": [
      "115\n",
      "6.651878356933594e-05\n"
     ]
    }
   ],
   "source": [
    "@timer_test\n",
    "\n",
    "def test3() :\n",
    "    print(45 + 70)\n",
    "test3()"
   ]
  },
  {
   "cell_type": "code",
   "execution_count": 14,
   "id": "533e03c4-b301-411f-affb-967dccf23a8a",
   "metadata": {},
   "outputs": [],
   "source": [
    "def timer_test(func) :\n",
    "    def timer_test_inner() :\n",
    "        start = time.time()\n",
    "        func()\n",
    "        end  = time.time()\n",
    "        print(end - start)\n",
    "    return timer_test_inner"
   ]
  },
  {
   "cell_type": "code",
   "execution_count": 15,
   "id": "eef816f5-dbb1-4907-af36-97b46c2f3883",
   "metadata": {},
   "outputs": [
    {
     "name": "stdout",
     "output_type": "stream",
     "text": [
      "18\n",
      "5.269050598144531e-05\n"
     ]
    }
   ],
   "source": [
    "@timer_test\n",
    "\n",
    "def test4() :\n",
    "    print(9 + 9)\n",
    "test4()"
   ]
  },
  {
   "cell_type": "code",
   "execution_count": 20,
   "id": "80a0cc53-90ae-492d-ab91-558106ac68c2",
   "metadata": {},
   "outputs": [],
   "source": [
    "def decorator(func) :\n",
    "    def decorator_inner() :\n",
    "        print('My first name is Rajib')\n",
    "        func()\n",
    "        print('My last name is Khan')\n",
    "    return decorator_inner"
   ]
  },
  {
   "cell_type": "code",
   "execution_count": 21,
   "id": "e7da2996-2812-417f-8620-1aac4cf770eb",
   "metadata": {},
   "outputs": [
    {
     "name": "stdout",
     "output_type": "stream",
     "text": [
      "My first name is Rajib\n",
      "My middle name is Ali\n",
      "My last name is Khan\n"
     ]
    }
   ],
   "source": [
    "@decorator\n",
    "\n",
    "def test1() :\n",
    "    print('My middle name is Ali')\n",
    "test1()"
   ]
  },
  {
   "cell_type": "code",
   "execution_count": null,
   "id": "d704b38c-6f6d-42e8-9d3c-9fec13fff738",
   "metadata": {},
   "outputs": [],
   "source": []
  }
 ],
 "metadata": {
  "kernelspec": {
   "display_name": "Python 3 (ipykernel)",
   "language": "python",
   "name": "python3"
  },
  "language_info": {
   "codemirror_mode": {
    "name": "ipython",
    "version": 3
   },
   "file_extension": ".py",
   "mimetype": "text/x-python",
   "name": "python",
   "nbconvert_exporter": "python",
   "pygments_lexer": "ipython3",
   "version": "3.10.8"
  }
 },
 "nbformat": 4,
 "nbformat_minor": 5
}
